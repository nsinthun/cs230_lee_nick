{
 "cells": [
  {
   "cell_type": "code",
   "execution_count": 42,
   "metadata": {},
   "outputs": [],
   "source": [
    "from PIL import Image\n",
    "import numpy as np\n",
    "import os\n",
    "from matplotlib.pyplot import imshow\n",
    "%matplotlib inline\n",
    "\n",
    "p_dir = 'womens-blouses-tops/'\n",
    "for f in os.listdir(p_dir):\n",
    "    if '.jpg' in f:\n",
    "\n",
    "\n",
    "        #f = os.listdir(p_dir)[50] #DEBUG\n",
    "\n",
    "        #Load and get image sizes\n",
    "        im = Image.open(p_dir+f)\n",
    "        w, h = im.size\n",
    "\n",
    "        #Crop\n",
    "        im = im.crop((0, 50, w, h-160))\n",
    "        #print(im.size) #DEBUG\n",
    "        \n",
    "        #Resize\n",
    "        im = im.resize((224,224), Image.ANTIALIAS)\n",
    "\n",
    "        #Save image\n",
    "        im.save(p_dir+f)\n",
    "\n",
    "        #Show image #DEBUG\n",
    "        #imshow(np.asarray(im))\n",
    "        #break\n"
   ]
  },
  {
   "cell_type": "code",
   "execution_count": 2,
   "metadata": {
    "collapsed": true
   },
   "outputs": [],
   "source": [
    "#Mean crops\n",
    "\n",
    "#mens-jeans crop\n",
    "im = im.crop((0, 100, w, h-156))\n",
    "\n",
    "#mens-longsleeve-shirts crop\n",
    "im = im.crop((0, 25, w, h-185))\n",
    "\n",
    "#mens-blazer-jackets\n",
    "im = im.crop((0, 80, w, h-176))"
   ]
  },
  {
   "cell_type": "code",
   "execution_count": 4,
   "metadata": {
    "collapsed": true
   },
   "outputs": [],
   "source": [
    "#casual-dresses crop\n",
    "im = im.crop((0, 30, w, h-180))\n",
    "\n",
    "#formal-dresses crop\n",
    "im = im.crop((0, 30, w, h-180))\n",
    "\n",
    "#totes-handbags crop\n",
    "im = im.crop((0, 140, w, h-69))\n",
    "\n",
    "#womens-tees-tops crop\n",
    "im.crop((0, 50, w, h-160))\n",
    "\n",
    "#womens-blouses-tops crop\n",
    "im = im.crop((0, 50, w, h-160))"
   ]
  },
  {
   "cell_type": "code",
   "execution_count": 6,
   "metadata": {
    "collapsed": true
   },
   "outputs": [],
   "source": [
    "p_dir = 'mens-all-jeans/'\n",
    "for f in os.listdir(p_dir):\n",
    "    if '.png' in f:\n",
    "        os.rename(p_dir+f, p_dir+f.replace('-jeans','-all-jeans'))"
   ]
  }
 ],
 "metadata": {
  "kernelspec": {
   "display_name": "Python 2",
   "language": "python",
   "name": "python2"
  },
  "language_info": {
   "codemirror_mode": {
    "name": "ipython",
    "version": 2
   },
   "file_extension": ".py",
   "mimetype": "text/x-python",
   "name": "python",
   "nbconvert_exporter": "python",
   "pygments_lexer": "ipython2",
   "version": "2.7.13"
  }
 },
 "nbformat": 4,
 "nbformat_minor": 2
}
