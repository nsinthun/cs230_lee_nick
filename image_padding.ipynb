{
 "cells": [
  {
   "cell_type": "code",
   "execution_count": 1,
   "metadata": {
    "collapsed": true
   },
   "outputs": [],
   "source": [
    "import numpy as np\n",
    "import os\n",
    "from IPython.display import Image as DisplayImage\n",
    "from PIL import Image, ImageOps"
   ]
  },
  {
   "cell_type": "code",
   "execution_count": 2,
   "metadata": {
    "collapsed": true
   },
   "outputs": [],
   "source": [
    "#Function to crop image\n",
    "def cropImage(category,file_name):\n",
    "\n",
    "    #Define path\n",
    "    path = category + '/'\n",
    "    \n",
    "    #Crop image\n",
    "    im = Image.open(path + file_name)\n",
    "    w, h = im.size\n",
    "    im = im.crop((0, 0, w, h-50))\n",
    "\n",
    "    #Define the desired dimensions\n",
    "    new_w, new_h = im.size\n",
    "    desired_dim = max(new_w,new_h)\n",
    "\n",
    "    #Add padding\n",
    "    delta_w = (desired_dim - new_w)/2\n",
    "    delta_h = (desired_dim - new_h)/2\n",
    "    padding = (delta_w,delta_h, delta_w,delta_h)\n",
    "    im = ImageOps.expand(im, padding)\n",
    "    \n",
    "    #Resize to 224\n",
    "    im = im.resize((224,224), Image.ANTIALIAS)\n",
    "    \n",
    "    #Save image\n",
    "    new_path = 'square-' + path\n",
    "    if not os.path.exists(new_path[:-1]):\n",
    "        os.makedirs(new_path[:-1])\n",
    "    im.save(new_path + file_name)\n",
    "\n",
    "#Define folder to edit\n",
    "category = 'womens-formal-dresses'\n",
    "\n",
    "#Get images\n",
    "image_list = os.listdir(category)\n",
    "\n",
    "#Crop the images\n",
    "for image in image_list:\n",
    "    if '.DS_Store' not in image:\n",
    "        cropImage(category,image)\n"
   ]
  },
  {
   "cell_type": "code",
   "execution_count": 3,
   "metadata": {
    "collapsed": true
   },
   "outputs": [],
   "source": [
    "#See the image\n",
    "#DisplayImage('jean2.jpg')"
   ]
  },
  {
   "cell_type": "code",
   "execution_count": null,
   "metadata": {
    "collapsed": true
   },
   "outputs": [],
   "source": []
  }
 ],
 "metadata": {
  "kernelspec": {
   "display_name": "Python 2",
   "language": "python",
   "name": "python2"
  },
  "language_info": {
   "codemirror_mode": {
    "name": "ipython",
    "version": 2
   },
   "file_extension": ".py",
   "mimetype": "text/x-python",
   "name": "python",
   "nbconvert_exporter": "python",
   "pygments_lexer": "ipython2",
   "version": "2.7.13"
  }
 },
 "nbformat": 4,
 "nbformat_minor": 2
}
